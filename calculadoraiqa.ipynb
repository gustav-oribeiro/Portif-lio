{
 "cells": [
  {
   "cell_type": "markdown",
   "metadata": {},
   "source": [
    "<h1> Índice de Qualidade da Água - CETESB</h1>\n",
    "Programa que recebe as informações das variáveis de qualidade da água e calcula o Índice de Qualidade da Água - IQA da CETESB"
   ]
  },
  {
   "cell_type": "markdown",
   "metadata": {},
   "source": [
    "Primeiro passo: atribuição do peso (w) para cada parâmetro de qualidade da água, fixado em função de sua importância para conformação global na qualidade da água"
   ]
  },
  {
   "cell_type": "code",
   "execution_count": 43,
   "metadata": {},
   "outputs": [],
   "source": [
    "w1 = 0.15 #Define o valor do peso correspondente ao parâmetro \"Coliformes Fecais\"\n",
    "w2 = 0.12 #Define o valor do peso correspondente ao parâmetro \"pH\"\n",
    "w3 = 0.10 #Define o valor do peso correspondente ao parâmetro \"DBO\"\n",
    "w4 = 0.10 #Define o valor do peso correspondente ao parâmetro \"Nitrogênio Total\"\n",
    "w5 = 0.10 #Define o valor do peso correspondente ao parâmetro \"Fósforo Total\"\n",
    "w6 = 0.10 #Define o valor do peso correspondente ao parâmetro \"Temperatura\"\n",
    "w7 = 0.08 #Define o valor do peso correspondente ao parâmetro \"Turbidez\"\n",
    "w8 = 0.08 #Define o valor do peso correspondente ao parâmetro \"Resíduo Total\"\n",
    "w9 = 0.17 #Define o valor do peso correspondente ao parâmetro \"Oxigênio Dissolvido\""
   ]
  },
  {
   "cell_type": "markdown",
   "metadata": {},
   "source": [
    "Segundo passo: receber o valor de cada parâmetro de qualidade"
   ]
  },
  {
   "cell_type": "code",
   "execution_count": 57,
   "metadata": {},
   "outputs": [],
   "source": [
    "ColFec = float(input('Valor de Coliformes Fecais (NMP/100 ml): '))\n",
    "pH = float(input('Valor do pH: '))\n",
    "DBO = float(input('Valor da DBO (mg/L): '))\n",
    "NT = float(input('Valor do Nitrogênio Total (mg/L): '))\n",
    "PT = float(input('Valor do Fósforo Total (mg/L): '))\n",
    "Temp = float(input('Valor da Temperatura (°C): '))\n",
    "Turb = float(input('Valor da Turbidez (UFT): '))\n",
    "ResT = float(input(' Valor do Resíduo Total (mg/t):  '))\n",
    "OD = float(input('Valor do Oxigênio Dissolvido (%): '))"
   ]
  },
  {
   "cell_type": "markdown",
   "metadata": {},
   "source": [
    "Terceiro passo: importar a biblioteca math para realizar cálculos com logarítmos"
   ]
  },
  {
   "cell_type": "code",
   "execution_count": 45,
   "metadata": {},
   "outputs": [],
   "source": [
    "import math"
   ]
  },
  {
   "cell_type": "markdown",
   "metadata": {},
   "source": [
    "Quarto passo: calcular os valores de qualidade de cada parâmetro (q), com base em sua respectiva curva média de variação de qualidade\n",
    "\n",
    "As curvas foram obtidas no artigo de Grunitzki et al: https://abrh.s3.sa-east-1.amazonaws.com/Sumarios/155/389fd4d85ad4ebbd09affba6bb4b0443_58521a35054135ab18138a8f37b809a6.pdf"
   ]
  },
  {
   "cell_type": "code",
   "execution_count": 73,
   "metadata": {},
   "outputs": [
    {
     "name": "stdout",
     "output_type": "stream",
     "text": [
      "28.024053050612643\n"
     ]
    }
   ],
   "source": [
    "if ColFec > 100000:\n",
    "    q1 = 3\n",
    "else:\n",
    "    q1 = 98.03+(-36.45)*(math.log(ColFec,10))+3.138*(math.log(ColFec, 10))**2+0.06776*(math.log(ColFec, 10))**3\n",
    "print (q1)"
   ]
  },
  {
   "cell_type": "code",
   "execution_count": 59,
   "metadata": {},
   "outputs": [
    {
     "name": "stdout",
     "output_type": "stream",
     "text": [
      "88.77014389888039\n"
     ]
    }
   ],
   "source": [
    "if pH < 2:\n",
    "    q2 = 2\n",
    "elif pH > 12:\n",
    "    q2 = 3\n",
    "else:\n",
    "    q2 = 0.05421*pH**(1.23*pH-0.09873*pH**2)+5.213\n",
    "print (q2)"
   ]
  },
  {
   "cell_type": "code",
   "execution_count": 60,
   "metadata": {},
   "outputs": [
    {
     "name": "stdout",
     "output_type": "stream",
     "text": [
      "100.36544078736517\n"
     ]
    }
   ],
   "source": [
    "if DBO > 30:\n",
    "    q3 = 2\n",
    "else:\n",
    "    q3 = 102.6*math.e**(-0.01101*DBO)\n",
    "print (q3)"
   ]
  },
  {
   "cell_type": "code",
   "execution_count": 61,
   "metadata": {},
   "outputs": [
    {
     "name": "stdout",
     "output_type": "stream",
     "text": [
      "78.85742917710161\n"
     ]
    }
   ],
   "source": [
    "if NT > 100:\n",
    "    q4 = 1\n",
    "else:\n",
    "    q4 = 98.96*math.e**(-0.2232-0.006457*NT)\n",
    "    print(q4)"
   ]
  },
  {
   "cell_type": "code",
   "execution_count": 62,
   "metadata": {},
   "outputs": [
    {
     "name": "stdout",
     "output_type": "stream",
     "text": [
      "97.83560111330821\n"
     ]
    }
   ],
   "source": [
    "if PT > 10:\n",
    "    q5 = 1\n",
    "else:\n",
    "    q5 = 213.7*math.e**(-1.68*PT**0.3325)\n",
    "print(q5)"
   ]
  },
  {
   "cell_type": "code",
   "execution_count": 63,
   "metadata": {},
   "outputs": [
    {
     "name": "stdout",
     "output_type": "stream",
     "text": [
      "42.92045136931923\n"
     ]
    }
   ],
   "source": [
    "if Temp > 15:\n",
    "    q6 = 9\n",
    "else:\n",
    "    q6 = 1/(0.0003869*(Temp+0.1815)**2+0.01081)\n",
    "print(q6)"
   ]
  },
  {
   "cell_type": "code",
   "execution_count": 64,
   "metadata": {},
   "outputs": [
    {
     "name": "stdout",
     "output_type": "stream",
     "text": [
      "33.414756909011075\n"
     ]
    }
   ],
   "source": [
    "if Turb > 100:\n",
    "    q7 = 5\n",
    "else:\n",
    "    q7 = 97.34*math.e**((-0.01139*Turb)-(0.04917*Turb)**0.5)\n",
    "print(q7)"
   ]
  },
  {
   "cell_type": "code",
   "execution_count": 65,
   "metadata": {},
   "outputs": [
    {
     "name": "stdout",
     "output_type": "stream",
     "text": [
      "82.73158339388797\n"
     ]
    }
   ],
   "source": [
    "if ResT > 500:\n",
    "    q8 = 32\n",
    "else:\n",
    "    q8 = 80.26*math.e**(-0.00107*ResT+0.03009*ResT**0.5)-0.1185*ResT\n",
    "print(q8)"
   ]
  },
  {
   "cell_type": "code",
   "execution_count": 66,
   "metadata": {},
   "outputs": [
    {
     "name": "stdout",
     "output_type": "stream",
     "text": [
      "74.02923760834422\n"
     ]
    }
   ],
   "source": [
    "if OD > 140:\n",
    "    q9 = 47\n",
    "else:\n",
    "    q9 = 100.8*math.e**(((OD-106)**2)/-3745)\n",
    "print(q9)"
   ]
  },
  {
   "cell_type": "markdown",
   "metadata": {},
   "source": [
    "Quinto passo: calcular o IQA a partir do produtório ponderado dos valores de qualidade da água de cada parâmetro e seus respectivos pesos atribuidos"
   ]
  },
  {
   "cell_type": "code",
   "execution_count": 74,
   "metadata": {},
   "outputs": [
    {
     "name": "stdout",
     "output_type": "stream",
     "text": [
      "62.54718983723698\n"
     ]
    }
   ],
   "source": [
    "IQA = (q1**w1)*(q2**w2)*(q3**w3)*(q4**w4)*(q5**w5)*(q6**w6)*(q7**w7)*(q8**w8)*(q9**w9)\n",
    "print(IQA)"
   ]
  },
  {
   "cell_type": "markdown",
   "metadata": {},
   "source": [
    "Sexto passo: apresentar a avaliação da qualidade da água, com base no valor final de IQA obtido"
   ]
  },
  {
   "cell_type": "code",
   "execution_count": 75,
   "metadata": {},
   "outputs": [
    {
     "name": "stdout",
     "output_type": "stream",
     "text": [
      "Qualidade da água é Boa\n"
     ]
    }
   ],
   "source": [
    "if IQA >= 80:\n",
    "    print ('Qualidade da água é Ótima')\n",
    "elif 51 < IQA <= 79:\n",
    "    print ('Qualidade da água é Boa')\n",
    "elif 36 < IQA <= 50:\n",
    "    print ('Qualidade da água é Regular')\n",
    "elif 19 < IQA <= 36:\n",
    "    print ('Qualidade da água é Ruim')\n",
    "else:\n",
    "    print ('Qualidade da água é Péssima')"
   ]
  }
 ],
 "metadata": {
  "kernelspec": {
   "display_name": "Python 3",
   "language": "python",
   "name": "python3"
  },
  "language_info": {
   "codemirror_mode": {
    "name": "ipython",
    "version": 3
   },
   "file_extension": ".py",
   "mimetype": "text/x-python",
   "name": "python",
   "nbconvert_exporter": "python",
   "pygments_lexer": "ipython3",
   "version": "3.12.0"
  }
 },
 "nbformat": 4,
 "nbformat_minor": 2
}
